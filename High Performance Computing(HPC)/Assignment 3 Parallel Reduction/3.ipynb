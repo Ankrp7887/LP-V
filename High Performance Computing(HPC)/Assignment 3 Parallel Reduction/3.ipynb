{
  "nbformat": 4,
  "nbformat_minor": 0,
  "metadata": {
    "colab": {
      "provenance": []
    },
    "kernelspec": {
      "name": "python3",
      "display_name": "Python 3"
    },
    "language_info": {
      "name": "python"
    }
  },
  "cells": [
    {
      "cell_type": "code",
      "execution_count": 15,
      "metadata": {
        "colab": {
          "base_uri": "https://localhost:8080/"
        },
        "id": "RsMKkkhRkKWU",
        "outputId": "ab14ee72-b90e-4463-dae9-f992ac89fa7d"
      },
      "outputs": [
        {
          "output_type": "stream",
          "name": "stdout",
          "text": [
            "Overwriting 3.cpp\n"
          ]
        }
      ],
      "source": [
        "%%writefile 3.cpp\n",
        "\n",
        "#include <iostream>\n",
        "//#include <vector>\n",
        "#include <omp.h>\n",
        "#include <climits>\n",
        "\n",
        "using namespace std;\n",
        "\n",
        "void min_reduction(int arr[], int n) {\n",
        "  int min_value = INT_MAX;\n",
        "  #pragma omp parallel for reduction(min: min_value)\n",
        "  for (int i = 0; i < n; i++) {\n",
        "\tif (arr[i] < min_value) {\n",
        "  \tmin_value = arr[i];\n",
        "\t}\n",
        "  }\n",
        "  cout << \"Minimum value: \" << min_value << endl;\n",
        "}\n",
        "\n",
        "void max_reduction(int arr[], int n) {\n",
        "  int max_value = INT_MIN;\n",
        "  #pragma omp parallel for reduction(max: max_value)\n",
        "  for (int i = 0; i < n; i++) {\n",
        "\tif (arr[i] > max_value) {\n",
        "  \tmax_value = arr[i];\n",
        "\t}\n",
        "  }\n",
        "  cout << \"Maximum value: \" << max_value << endl;\n",
        "}\n",
        "\n",
        "void sum_reduction(int arr[], int n) {\n",
        "  int sum = 0;\n",
        "   #pragma omp parallel for reduction(+: sum)\n",
        "   for (int i = 0; i < n; i++) {\n",
        "\tsum += arr[i];\n",
        "  }\n",
        "  cout << \"Sum: \" << sum << endl;\n",
        "}\n",
        "\n",
        "void average_reduction(int arr[], int n) {\n",
        "  int sum = 0;\n",
        "  #pragma omp parallel for reduction(+: sum)\n",
        "  for (int i = 0; i < n; i++) {\n",
        "\tsum += arr[i];\n",
        "  }\n",
        "  cout << \"Average: \" << (double)sum / (n-1) << endl;\n",
        "}\n",
        "\n",
        "int main() {\n",
        "    int *arr,n;\n",
        "    cout<<\"\\n enter total no of elements=>\";\n",
        "    cin>>n;\n",
        "    arr=new int[n];\n",
        "    cout<<\"\\n enter elements=>\";\n",
        "    for(int i=0;i<n;i++)\n",
        "    {\n",
        "   \t cin>>arr[i];\n",
        "    }\n",
        "\n",
        "//   int arr[] = {5, 2, 9, 1, 7, 6, 8, 3, 4};\n",
        "//   int n = size(arr);\n",
        "\n",
        "  min_reduction(arr, n);\n",
        "  max_reduction(arr, n);\n",
        "  sum_reduction(arr, n);\n",
        "  average_reduction(arr, n);\n",
        "}\n",
        "\n"
      ]
    },
    {
      "cell_type": "code",
      "source": [
        "! g++ 3.cpp -o 3"
      ],
      "metadata": {
        "id": "R5f7U_lokn_B"
      },
      "execution_count": 16,
      "outputs": []
    },
    {
      "cell_type": "code",
      "source": [
        "! ./3"
      ],
      "metadata": {
        "colab": {
          "base_uri": "https://localhost:8080/"
        },
        "id": "lvNYqpY3kul7",
        "outputId": "b4a992be-effc-4955-a76b-73d77179fd4b"
      },
      "execution_count": 17,
      "outputs": [
        {
          "output_type": "stream",
          "name": "stdout",
          "text": [
            "\n",
            " enter total no of elements=>10\n",
            "\n",
            " enter elements=>23\n",
            "56\n",
            "88\n",
            "44\n",
            "67\n",
            "09\n",
            "23\n",
            "67\n",
            "78\n",
            "45\n",
            "Minimum value: 9\n",
            "Maximum value: 88\n",
            "Sum: 500\n",
            "Average: 55.5556\n"
          ]
        }
      ]
    },
    {
      "cell_type": "code",
      "source": [],
      "metadata": {
        "id": "r2cBmX_0k8SS"
      },
      "execution_count": null,
      "outputs": []
    }
  ]
}