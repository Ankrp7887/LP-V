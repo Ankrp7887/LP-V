{
  "nbformat": 4,
  "nbformat_minor": 0,
  "metadata": {
    "colab": {
      "provenance": []
    },
    "kernelspec": {
      "name": "python3",
      "display_name": "Python 3"
    },
    "language_info": {
      "name": "python"
    }
  },
  "cells": [
    {
      "cell_type": "code",
      "execution_count": 4,
      "metadata": {
        "colab": {
          "base_uri": "https://localhost:8080/"
        },
        "id": "RsMKkkhRkKWU",
        "outputId": "d9676dc8-8e8b-4362-86a7-602c239a5444"
      },
      "outputs": [
        {
          "output_type": "stream",
          "name": "stdout",
          "text": [
            "Writing 1.cpp\n"
          ]
        }
      ],
      "source": [
        "%%writefile 1.cpp\n",
        "\n",
        "#include <iostream>\n",
        "#include <vector>\n",
        "#include <queue>\n",
        "#include <stack>\n",
        "#include <omp.h>\n",
        "\n",
        "using namespace std;\n",
        "\n",
        "// Graph class representing an undirected graph using adjacency list representation\n",
        "class Graph {\n",
        "private:\n",
        "    int numVertices;          // Number of vertices\n",
        "    vector<vector<int>> adj;  // Adjacency list\n",
        "\n",
        "public:\n",
        "    Graph(int vertices) : numVertices(vertices), adj(vertices) {}\n",
        "\n",
        "    // Add an edge between two vertices\n",
        "    void addEdge(int src, int dest) {\n",
        "        adj[src].push_back(dest);\n",
        "        adj[dest].push_back(src);\n",
        "    }\n",
        "\n",
        "    // Perform Breadth First Search (BFS) in parallel\n",
        "    void bfs(int startVertex) {\n",
        "        vector<bool> visited(numVertices, false);\n",
        "        queue<int> q;\n",
        "\n",
        "        // Mark the start vertex as visited and enqueue it\n",
        "        visited[startVertex] = true;\n",
        "        q.push(startVertex);\n",
        "\n",
        "        while (!q.empty()) {\n",
        "            int currentVertex = q.front();\n",
        "            q.pop();\n",
        "            cout << currentVertex << \" \";\n",
        "\n",
        "            // Enqueue all adjacent unvisited vertices\n",
        "            #pragma omp parallel for\n",
        "            for (int neighbor : adj[currentVertex]) {\n",
        "                if (!visited[neighbor]) {\n",
        "                    visited[neighbor] = true;\n",
        "                    q.push(neighbor);\n",
        "                }\n",
        "            }\n",
        "        }\n",
        "    }\n",
        "\n",
        "    // Perform Depth First Search (DFS) in parallel\n",
        "    void dfs(int startVertex) {\n",
        "        vector<bool> visited(numVertices, false);\n",
        "        stack<int> s;\n",
        "\n",
        "        // Mark the start vertex as visited and push it onto the stack\n",
        "        visited[startVertex] = true;\n",
        "        s.push(startVertex);\n",
        "\n",
        "        while (!s.empty()) {\n",
        "            int currentVertex = s.top();\n",
        "            s.pop();\n",
        "            cout << currentVertex << \" \";\n",
        "\n",
        "            // Push all adjacent unvisited vertices onto the stack\n",
        "            #pragma omp parallel for\n",
        "            for (int neighbor : adj[currentVertex]) {\n",
        "                if (!visited[neighbor]) {\n",
        "                    visited[neighbor] = true;\n",
        "                    s.push(neighbor);\n",
        "                }\n",
        "            }\n",
        "        }\n",
        "    }\n",
        "};\n",
        "\n",
        "int main() {\n",
        "    // Create a graph with 7 vertices\n",
        "    Graph graph(7);\n",
        "\n",
        "    // Add edges between vertices\n",
        "    graph.addEdge(0, 1);\n",
        "    graph.addEdge(0, 2);\n",
        "    graph.addEdge(1, 3);\n",
        "    graph.addEdge(1, 4);\n",
        "    graph.addEdge(2, 5);\n",
        "    graph.addEdge(2, 6);\n",
        "\n",
        "    cout << \"Breadth First Search (BFS): \";\n",
        "    graph.bfs(0);\n",
        "    cout << endl;\n",
        "\n",
        "    cout << \"Depth First Search (DFS): \";\n",
        "    graph.dfs(0);\n",
        "    cout << endl;\n",
        "\n",
        "    return 0;\n",
        "}\n"
      ]
    },
    {
      "cell_type": "code",
      "source": [
        "! g++ 1.cpp -o 1"
      ],
      "metadata": {
        "id": "R5f7U_lokn_B"
      },
      "execution_count": 5,
      "outputs": []
    },
    {
      "cell_type": "code",
      "source": [
        "! ./1"
      ],
      "metadata": {
        "colab": {
          "base_uri": "https://localhost:8080/"
        },
        "id": "lvNYqpY3kul7",
        "outputId": "0bf3e9b2-03a2-4dac-dcb3-c424aace5578"
      },
      "execution_count": 6,
      "outputs": [
        {
          "output_type": "stream",
          "name": "stdout",
          "text": [
            "Breadth First Search (BFS): 0 1 2 3 4 5 6 \n",
            "Depth First Search (DFS): 0 2 6 5 1 4 3 \n"
          ]
        }
      ]
    },
    {
      "cell_type": "code",
      "source": [],
      "metadata": {
        "id": "r2cBmX_0k8SS"
      },
      "execution_count": null,
      "outputs": []
    }
  ]
}